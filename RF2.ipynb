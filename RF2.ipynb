{
  "cells": [
    {
      "cell_type": "code",
      "execution_count": 1,
      "metadata": {
        "colab": {
          "base_uri": "https://localhost:8080/"
        },
        "id": "ZLLiFCCX9rdQ",
        "outputId": "881d4419-d012-468e-8402-1f82ebb90657"
      },
      "outputs": [
        {
          "name": "stdout",
          "output_type": "stream",
          "text": [
            "Requirement already satisfied: bayesian-optimization in f:\\kampus\\semester 7\\ta 1\\web\\venv\\lib\\site-packages (1.4.3)\n",
            "Requirement already satisfied: numpy>=1.9.0 in f:\\kampus\\semester 7\\ta 1\\web\\venv\\lib\\site-packages (from bayesian-optimization) (1.25.1)\n",
            "Requirement already satisfied: scipy>=1.0.0 in f:\\kampus\\semester 7\\ta 1\\web\\venv\\lib\\site-packages (from bayesian-optimization) (1.11.1)\n",
            "Requirement already satisfied: scikit-learn>=0.18.0 in f:\\kampus\\semester 7\\ta 1\\web\\venv\\lib\\site-packages (from bayesian-optimization) (1.3.0)\n",
            "Requirement already satisfied: colorama>=0.4.6 in f:\\kampus\\semester 7\\ta 1\\web\\venv\\lib\\site-packages (from bayesian-optimization) (0.4.6)\n",
            "Requirement already satisfied: joblib>=1.1.1 in f:\\kampus\\semester 7\\ta 1\\web\\venv\\lib\\site-packages (from scikit-learn>=0.18.0->bayesian-optimization) (1.3.1)\n",
            "Requirement already satisfied: threadpoolctl>=2.0.0 in f:\\kampus\\semester 7\\ta 1\\web\\venv\\lib\\site-packages (from scikit-learn>=0.18.0->bayesian-optimization) (3.1.0)\n"
          ]
        }
      ],
      "source": [
        "!pip install -U bayesian-optimization"
      ]
    },
    {
      "cell_type": "code",
      "execution_count": 2,
      "metadata": {
        "colab": {
          "base_uri": "https://localhost:8080/"
        },
        "id": "H5-MpKA39xXX",
        "outputId": "623bf15f-89ef-435f-c34f-ea8c13561555"
      },
      "outputs": [
        {
          "name": "stdout",
          "output_type": "stream",
          "text": [
            "Requirement already satisfied: scikit-optimize in f:\\kampus\\semester 7\\ta 1\\web\\venv\\lib\\site-packages (0.9.0)\n",
            "Requirement already satisfied: joblib>=0.11 in f:\\kampus\\semester 7\\ta 1\\web\\venv\\lib\\site-packages (from scikit-optimize) (1.3.1)\n",
            "Requirement already satisfied: pyaml>=16.9 in f:\\kampus\\semester 7\\ta 1\\web\\venv\\lib\\site-packages (from scikit-optimize) (23.7.0)\n",
            "Requirement already satisfied: numpy>=1.13.3 in f:\\kampus\\semester 7\\ta 1\\web\\venv\\lib\\site-packages (from scikit-optimize) (1.25.1)\n",
            "Requirement already satisfied: scipy>=0.19.1 in f:\\kampus\\semester 7\\ta 1\\web\\venv\\lib\\site-packages (from scikit-optimize) (1.11.1)\n",
            "Requirement already satisfied: scikit-learn>=0.20.0 in f:\\kampus\\semester 7\\ta 1\\web\\venv\\lib\\site-packages (from scikit-optimize) (1.3.0)\n",
            "Requirement already satisfied: PyYAML in f:\\kampus\\semester 7\\ta 1\\web\\venv\\lib\\site-packages (from pyaml>=16.9->scikit-optimize) (6.0)\n",
            "Requirement already satisfied: threadpoolctl>=2.0.0 in f:\\kampus\\semester 7\\ta 1\\web\\venv\\lib\\site-packages (from scikit-learn>=0.20.0->scikit-optimize) (3.1.0)\n"
          ]
        }
      ],
      "source": [
        "!pip install scikit-optimize"
      ]
    },
    {
      "cell_type": "code",
      "execution_count": 3,
      "metadata": {
        "colab": {
          "base_uri": "https://localhost:8080/"
        },
        "id": "v3YtciOoEEPP",
        "outputId": "e0bc055e-52cc-4b3a-bb24-ecf248e42a41"
      },
      "outputs": [
        {
          "name": "stdout",
          "output_type": "stream",
          "text": [
            "Requirement already satisfied: scikit-learn in f:\\kampus\\semester 7\\ta 1\\web\\venv\\lib\\site-packages (1.3.0)\n",
            "Requirement already satisfied: numpy>=1.17.3 in f:\\kampus\\semester 7\\ta 1\\web\\venv\\lib\\site-packages (from scikit-learn) (1.25.1)\n",
            "Requirement already satisfied: scipy>=1.5.0 in f:\\kampus\\semester 7\\ta 1\\web\\venv\\lib\\site-packages (from scikit-learn) (1.11.1)\n",
            "Requirement already satisfied: joblib>=1.1.1 in f:\\kampus\\semester 7\\ta 1\\web\\venv\\lib\\site-packages (from scikit-learn) (1.3.1)\n",
            "Requirement already satisfied: threadpoolctl>=2.0.0 in f:\\kampus\\semester 7\\ta 1\\web\\venv\\lib\\site-packages (from scikit-learn) (3.1.0)\n",
            "Note: you may need to restart the kernel to use updated packages.\n"
          ]
        }
      ],
      "source": [
        "pip install --upgrade scikit-learn"
      ]
    },
    {
      "cell_type": "code",
      "execution_count": 4,
      "metadata": {
        "id": "JJGjpDvv9h0_"
      },
      "outputs": [],
      "source": [
        "import numpy as np # linear algebra\n",
        "import pandas as pd # data processing, CSV file I/O (e.g. pd.read_csv)\n",
        "from pandas import read_excel\n",
        "import numpy as num\n",
        "import scipy.stats\n",
        "from sklearn.datasets import make_circles\n",
        "from sklearn.model_selection import train_test_split, RandomizedSearchCV, GridSearchCV\n",
        "from sklearn.preprocessing import OrdinalEncoder, LabelEncoder, OneHotEncoder\n",
        "from sklearn.ensemble import RandomForestClassifier\n",
        "from skopt import BayesSearchCV\n",
        "from sklearn.compose import ColumnTransformer\n",
        "from sklearn.metrics import classification_report, confusion_matrix"
      ]
    },
    {
      "cell_type": "code",
      "execution_count": 5,
      "metadata": {
        "colab": {
          "base_uri": "https://localhost:8080/"
        },
        "id": "wx1P_Bpj9qhu",
        "outputId": "109831e5-b6d2-4da2-8958-f1b813b2a4d9"
      },
      "outputs": [],
      "source": [
        "df = pd.read_csv('data2.csv', na_values='?')"
      ]
    },
    {
      "cell_type": "code",
      "execution_count": 6,
      "metadata": {
        "id": "PFH4w5zMGp56"
      },
      "outputs": [],
      "source": [
        "# Select the feature columns\n",
        "feature_columns = ['A1', 'A2', 'A3', 'A4', 'A5', 'A6', 'A7', 'A8', 'A9', 'A10', 'Jaundice', 'Family_mem_with_ASD']\n",
        "\n",
        "# Select the target column\n",
        "target_column = 'Class/ASD Traits '"
      ]
    },
    {
      "cell_type": "code",
      "execution_count": 7,
      "metadata": {
        "id": "yzm4YTqRG2uR"
      },
      "outputs": [],
      "source": [
        "# Extract the features and target\n",
        "features = df[feature_columns]\n",
        "target = df[target_column]"
      ]
    },
    {
      "cell_type": "code",
      "execution_count": 8,
      "metadata": {
        "id": "IQOi9Gpjor8n"
      },
      "outputs": [],
      "source": [
        "# Convert 'Jaundice' and 'Family_mem_with_ASD' columns from string to integer\n",
        "label_encoder = LabelEncoder()\n",
        "features_copy = features.copy()\n",
        "features_copy['Jaundice'] = label_encoder.fit_transform(features_copy['Jaundice'])\n",
        "features_copy['Family_mem_with_ASD'] = label_encoder.fit_transform(features_copy['Family_mem_with_ASD'])\n",
        "\n",
        "# Convert 'Class/ASD Traits' column from string to integer\n",
        "target = label_encoder.fit_transform(target)\n"
      ]
    },
    {
      "cell_type": "code",
      "execution_count": 9,
      "metadata": {},
      "outputs": [
        {
          "name": "stdout",
          "output_type": "stream",
          "text": [
            "features:\n",
            "      A1  A2  A3  A4  A5  A6  A7  A8  A9  A10  Jaundice  Family_mem_with_ASD\n",
            "0      0   0   0   0   0   0   1   1   0    1         1                    0\n",
            "1      1   1   0   0   0   1   1   0   0    0         1                    0\n",
            "2      1   0   0   0   0   0   1   1   0    1         1                    0\n",
            "3      1   1   1   1   1   1   1   1   1    1         0                    0\n",
            "4      1   1   0   1   1   1   1   1   1    1         0                    1\n",
            "...   ..  ..  ..  ..  ..  ..  ..  ..  ..  ...       ...                  ...\n",
            "1049   0   0   0   0   0   0   0   0   0    1         0                    1\n",
            "1050   0   0   1   1   1   0   1   0   1    0         1                    0\n",
            "1051   1   0   1   1   1   1   1   1   1    1         1                    0\n",
            "1052   1   0   0   0   0   0   0   1   0    1         0                    1\n",
            "1053   1   1   0   0   1   1   0   1   1    0         1                    1\n",
            "\n",
            "[1054 rows x 12 columns]\n"
          ]
        }
      ],
      "source": [
        "print(\"features:\")\n",
        "print(features_copy)"
      ]
    },
    {
      "cell_type": "code",
      "execution_count": 10,
      "metadata": {
        "id": "xYQycfs_Hgsk"
      },
      "outputs": [],
      "source": [
        "# Split the data into training and testing sets\n",
        "X_train, X_test, y_train, y_test = train_test_split(features_copy, target, test_size=0.3, random_state=42)"
      ]
    },
    {
      "cell_type": "code",
      "execution_count": 11,
      "metadata": {
        "id": "0KopkIvhIFC_"
      },
      "outputs": [],
      "source": [
        "# Define the random forest classifier model\n",
        "rf = RandomForestClassifier(random_state=42)"
      ]
    },
    {
      "cell_type": "code",
      "execution_count": 12,
      "metadata": {
        "colab": {
          "base_uri": "https://localhost:8080/",
          "height": 75
        },
        "id": "G1MlXgb-Nhl9",
        "outputId": "5aebe45d-3d66-4aa2-97cf-121805ddc570"
      },
      "outputs": [
        {
          "data": {
            "text/html": [
              "<style>#sk-container-id-1 {color: black;}#sk-container-id-1 pre{padding: 0;}#sk-container-id-1 div.sk-toggleable {background-color: white;}#sk-container-id-1 label.sk-toggleable__label {cursor: pointer;display: block;width: 100%;margin-bottom: 0;padding: 0.3em;box-sizing: border-box;text-align: center;}#sk-container-id-1 label.sk-toggleable__label-arrow:before {content: \"▸\";float: left;margin-right: 0.25em;color: #696969;}#sk-container-id-1 label.sk-toggleable__label-arrow:hover:before {color: black;}#sk-container-id-1 div.sk-estimator:hover label.sk-toggleable__label-arrow:before {color: black;}#sk-container-id-1 div.sk-toggleable__content {max-height: 0;max-width: 0;overflow: hidden;text-align: left;background-color: #f0f8ff;}#sk-container-id-1 div.sk-toggleable__content pre {margin: 0.2em;color: black;border-radius: 0.25em;background-color: #f0f8ff;}#sk-container-id-1 input.sk-toggleable__control:checked~div.sk-toggleable__content {max-height: 200px;max-width: 100%;overflow: auto;}#sk-container-id-1 input.sk-toggleable__control:checked~label.sk-toggleable__label-arrow:before {content: \"▾\";}#sk-container-id-1 div.sk-estimator input.sk-toggleable__control:checked~label.sk-toggleable__label {background-color: #d4ebff;}#sk-container-id-1 div.sk-label input.sk-toggleable__control:checked~label.sk-toggleable__label {background-color: #d4ebff;}#sk-container-id-1 input.sk-hidden--visually {border: 0;clip: rect(1px 1px 1px 1px);clip: rect(1px, 1px, 1px, 1px);height: 1px;margin: -1px;overflow: hidden;padding: 0;position: absolute;width: 1px;}#sk-container-id-1 div.sk-estimator {font-family: monospace;background-color: #f0f8ff;border: 1px dotted black;border-radius: 0.25em;box-sizing: border-box;margin-bottom: 0.5em;}#sk-container-id-1 div.sk-estimator:hover {background-color: #d4ebff;}#sk-container-id-1 div.sk-parallel-item::after {content: \"\";width: 100%;border-bottom: 1px solid gray;flex-grow: 1;}#sk-container-id-1 div.sk-label:hover label.sk-toggleable__label {background-color: #d4ebff;}#sk-container-id-1 div.sk-serial::before {content: \"\";position: absolute;border-left: 1px solid gray;box-sizing: border-box;top: 0;bottom: 0;left: 50%;z-index: 0;}#sk-container-id-1 div.sk-serial {display: flex;flex-direction: column;align-items: center;background-color: white;padding-right: 0.2em;padding-left: 0.2em;position: relative;}#sk-container-id-1 div.sk-item {position: relative;z-index: 1;}#sk-container-id-1 div.sk-parallel {display: flex;align-items: stretch;justify-content: center;background-color: white;position: relative;}#sk-container-id-1 div.sk-item::before, #sk-container-id-1 div.sk-parallel-item::before {content: \"\";position: absolute;border-left: 1px solid gray;box-sizing: border-box;top: 0;bottom: 0;left: 50%;z-index: -1;}#sk-container-id-1 div.sk-parallel-item {display: flex;flex-direction: column;z-index: 1;position: relative;background-color: white;}#sk-container-id-1 div.sk-parallel-item:first-child::after {align-self: flex-end;width: 50%;}#sk-container-id-1 div.sk-parallel-item:last-child::after {align-self: flex-start;width: 50%;}#sk-container-id-1 div.sk-parallel-item:only-child::after {width: 0;}#sk-container-id-1 div.sk-dashed-wrapped {border: 1px dashed gray;margin: 0 0.4em 0.5em 0.4em;box-sizing: border-box;padding-bottom: 0.4em;background-color: white;}#sk-container-id-1 div.sk-label label {font-family: monospace;font-weight: bold;display: inline-block;line-height: 1.2em;}#sk-container-id-1 div.sk-label-container {text-align: center;}#sk-container-id-1 div.sk-container {/* jupyter's `normalize.less` sets `[hidden] { display: none; }` but bootstrap.min.css set `[hidden] { display: none !important; }` so we also need the `!important` here to be able to override the default hidden behavior on the sphinx rendered scikit-learn.org. See: https://github.com/scikit-learn/scikit-learn/issues/21755 */display: inline-block !important;position: relative;}#sk-container-id-1 div.sk-text-repr-fallback {display: none;}</style><div id=\"sk-container-id-1\" class=\"sk-top-container\"><div class=\"sk-text-repr-fallback\"><pre>RandomForestClassifier(random_state=42)</pre><b>In a Jupyter environment, please rerun this cell to show the HTML representation or trust the notebook. <br />On GitHub, the HTML representation is unable to render, please try loading this page with nbviewer.org.</b></div><div class=\"sk-container\" hidden><div class=\"sk-item\"><div class=\"sk-estimator sk-toggleable\"><input class=\"sk-toggleable__control sk-hidden--visually\" id=\"sk-estimator-id-1\" type=\"checkbox\" checked><label for=\"sk-estimator-id-1\" class=\"sk-toggleable__label sk-toggleable__label-arrow\">RandomForestClassifier</label><div class=\"sk-toggleable__content\"><pre>RandomForestClassifier(random_state=42)</pre></div></div></div></div></div>"
            ],
            "text/plain": [
              "RandomForestClassifier(random_state=42)"
            ]
          },
          "execution_count": 12,
          "metadata": {},
          "output_type": "execute_result"
        }
      ],
      "source": [
        "rf.fit(X_train,y_train)"
      ]
    },
    {
      "cell_type": "code",
      "execution_count": 13,
      "metadata": {
        "colab": {
          "base_uri": "https://localhost:8080/"
        },
        "id": "vBqABS7UNszE",
        "outputId": "bac1624b-8e00-435d-8d99-1da5917bb9bf"
      },
      "outputs": [
        {
          "name": "stdout",
          "output_type": "stream",
          "text": [
            "[[ 93   5]\n",
            " [  4 215]]\n",
            "              precision    recall  f1-score   support\n",
            "\n",
            "           0       0.96      0.95      0.95        98\n",
            "           1       0.98      0.98      0.98       219\n",
            "\n",
            "    accuracy                           0.97       317\n",
            "   macro avg       0.97      0.97      0.97       317\n",
            "weighted avg       0.97      0.97      0.97       317\n",
            "\n"
          ]
        }
      ],
      "source": [
        "pred_rf= rf.predict(X_test)\n",
        "print(confusion_matrix(y_test,pred_rf))\n",
        "print(classification_report(y_test,pred_rf))"
      ]
    },
    {
      "cell_type": "markdown",
      "metadata": {
        "id": "cqRQl8SbMakI"
      },
      "source": [
        "# Define parameter grids or search spaces for Random Search, Grid Search, and Bayesian Optimization"
      ]
    },
    {
      "cell_type": "code",
      "execution_count": 14,
      "metadata": {
        "id": "R-awbrrtILIq"
      },
      "outputs": [],
      "source": [
        "# Define parameter grids or search spaces for Random Search, Grid Search, and Bayesian Optimization\n",
        "param_grid_grid = {\n",
        "    \"n_estimators\": [100, 200, 300],\n",
        "    \"max_depth\": [5, 10, 15],\n",
        "    \"min_samples_split\": [2, 5, 10],\n",
        "    \"min_samples_leaf\": [1, 2, 4],\n",
        "    \"max_features\": ['sqrt', 'log2'],\n",
        "    \"bootstrap\": [True, False],\n",
        "    \"n_jobs\": [-1],\n",
        "    \"criterion\": [\"gini\", \"entropy\"],\n",
        "    \"verbose\": [0]\n",
        "}\n",
        "\n",
        "# Define the parameter distributions for Randomized Search\n",
        "param_grid_random = {\n",
        "    \"n_estimators\": [100, 200, 300],\n",
        "    \"max_depth\": [5, 10, 15],\n",
        "    \"min_samples_split\": [2, 5, 10],\n",
        "    \"min_samples_leaf\": [1, 2, 4],\n",
        "    \"max_features\": ['sqrt', 'log2'],\n",
        "    \"bootstrap\": [True, False],\n",
        "    \"n_jobs\": [-1],\n",
        "    \"criterion\": [\"gini\", \"entropy\"],\n",
        "    \"verbose\": [0]\n",
        "}\n",
        "\n",
        "# Define the search space for Bayesian Optimization\n",
        "param_grid_bayes = {\n",
        "    'n_estimators': (100, 300),\n",
        "    'max_depth': (5, 15),\n",
        "    'min_samples_split': (2, 10),\n",
        "    'min_samples_leaf': (1, 4),\n",
        "    'max_features': (0.1, 0.9),\n",
        "    'bootstrap': [True, False],\n",
        "    \"criterion\": [\"gini\", \"entropy\"],\n",
        "    \"verbose\": [0]\n",
        "}"
      ]
    },
    {
      "cell_type": "markdown",
      "metadata": {
        "id": "DqQJh6FOQpZI"
      },
      "source": [
        "Random Search"
      ]
    },
    {
      "cell_type": "code",
      "execution_count": 15,
      "metadata": {
        "id": "_-IBt74OMY6w"
      },
      "outputs": [],
      "source": [
        "random_search = RandomizedSearchCV(RandomForestClassifier(), param_grid_random, n_iter=100)\n",
        "random_search.fit(X_train, y_train)\n",
        "random_search_best_params = random_search.best_params_"
      ]
    },
    {
      "cell_type": "code",
      "execution_count": 16,
      "metadata": {
        "colab": {
          "base_uri": "https://localhost:8080/"
        },
        "id": "OmVD-JIcip4-",
        "outputId": "1e585d42-b366-4afe-caed-0d70ede2696f"
      },
      "outputs": [
        {
          "name": "stdout",
          "output_type": "stream",
          "text": [
            "Random Search Best Parameters: {'verbose': 0, 'n_jobs': -1, 'n_estimators': 100, 'min_samples_split': 5, 'min_samples_leaf': 2, 'max_features': 'sqrt', 'max_depth': 10, 'criterion': 'entropy', 'bootstrap': True}\n"
          ]
        }
      ],
      "source": [
        "print(\"Random Search Best Parameters:\", random_search_best_params)"
      ]
    },
    {
      "cell_type": "code",
      "execution_count": 17,
      "metadata": {
        "colab": {
          "base_uri": "https://localhost:8080/"
        },
        "id": "Y2tBQo5xxvnJ",
        "outputId": "5919844f-519d-4cea-c54f-da162b263978"
      },
      "outputs": [
        {
          "name": "stdout",
          "output_type": "stream",
          "text": [
            "                  Best Parameter\n",
            "verbose                        0\n",
            "n_jobs                        -1\n",
            "n_estimators                 100\n",
            "min_samples_split              5\n",
            "min_samples_leaf               2\n",
            "max_features                sqrt\n",
            "max_depth                     10\n",
            "criterion                entropy\n",
            "bootstrap                   True\n"
          ]
        }
      ],
      "source": [
        "# Create a DataFrame to display the best parameters\n",
        "best_params_df = pd.DataFrame.from_dict(random_search_best_params, orient='index', columns=['Best Parameter'])\n",
        "\n",
        "# Display the DataFrame\n",
        "print(best_params_df)"
      ]
    },
    {
      "cell_type": "markdown",
      "metadata": {
        "id": "mFqHpX-KQrHr"
      },
      "source": [
        "Grid Search"
      ]
    },
    {
      "cell_type": "code",
      "execution_count": 27,
      "metadata": {
        "id": "QOTgLkZDQItz"
      },
      "outputs": [],
      "source": [
        "grid_search = GridSearchCV(RandomForestClassifier(), param_grid_grid)\n",
        "grid_search.fit(X_train, y_train)\n",
        "grid_search_best_params = grid_search.best_params_"
      ]
    },
    {
      "cell_type": "code",
      "execution_count": 28,
      "metadata": {
        "colab": {
          "base_uri": "https://localhost:8080/"
        },
        "id": "Y_13ch5Bitd6",
        "outputId": "a29a5787-5643-4784-e83e-90b6eba277b3"
      },
      "outputs": [
        {
          "name": "stdout",
          "output_type": "stream",
          "text": [
            "Grid Search Best Parameters: {'bootstrap': True, 'criterion': 'gini', 'max_depth': 10, 'max_features': 'sqrt', 'min_samples_leaf': 1, 'min_samples_split': 5, 'n_estimators': 100, 'n_jobs': -1, 'verbose': 0}\n"
          ]
        }
      ],
      "source": [
        "print(\"Grid Search Best Parameters:\", grid_search_best_params)"
      ]
    },
    {
      "cell_type": "markdown",
      "metadata": {
        "id": "u4HPCchwih1S"
      },
      "source": [
        "Bayesian Optimization"
      ]
    },
    {
      "cell_type": "code",
      "execution_count": null,
      "metadata": {
        "id": "az9NfTxtgOI-"
      },
      "outputs": [],
      "source": [
        "#bayesian_search = BayesSearchCV(RandomForestClassifier(), param_grid_bayes, n_iter=50)\n",
        "#bayesian_search.fit(X_train, y_train)\n",
        "#bayesian_search_best_params = bayesian_search.best_params_"
      ]
    },
    {
      "cell_type": "code",
      "execution_count": null,
      "metadata": {
        "colab": {
          "base_uri": "https://localhost:8080/"
        },
        "id": "b8FGuOulihJn",
        "outputId": "44c049ea-1bd2-4e80-df5c-6aa574bcd404"
      },
      "outputs": [],
      "source": [
        "#print(\"Bayesian Optimization Best Parameters:\", bayesian_search_best_params)"
      ]
    },
    {
      "cell_type": "code",
      "execution_count": 29,
      "metadata": {
        "id": "swPmfW8Rjco8"
      },
      "outputs": [],
      "source": [
        "# Evaluate the tuned models on the test set\n",
        "random_search_pred = random_search.predict(X_test)\n",
        "grid_search_pred = grid_search.predict(X_test)\n",
        "#bayes_search_pred = bayesian_search.predict(X_test)"
      ]
    },
    {
      "cell_type": "code",
      "execution_count": null,
      "metadata": {
        "colab": {
          "base_uri": "https://localhost:8080/"
        },
        "id": "rIjn-8Ejj4nw",
        "outputId": "73e504ac-8235-4e00-ab74-196f982e9197"
      },
      "outputs": [
        {
          "name": "stdout",
          "output_type": "stream",
          "text": [
            "Random Search Results:\n",
            "              precision    recall  f1-score   support\n",
            "\n",
            "           0       0.98      0.95      0.96        98\n",
            "           1       0.98      0.99      0.98       219\n",
            "\n",
            "    accuracy                           0.98       317\n",
            "   macro avg       0.98      0.97      0.97       317\n",
            "weighted avg       0.98      0.98      0.98       317\n",
            "\n"
          ]
        }
      ],
      "source": [
        "# Print classification reports\n",
        "print(\"Random Search Results:\")\n",
        "print(classification_report(y_test, random_search_pred))"
      ]
    },
    {
      "cell_type": "code",
      "execution_count": null,
      "metadata": {
        "colab": {
          "base_uri": "https://localhost:8080/"
        },
        "id": "XNfBZI65j-ZW",
        "outputId": "1ef1f173-5c7e-48aa-de59-da65a136e12d"
      },
      "outputs": [
        {
          "name": "stdout",
          "output_type": "stream",
          "text": [
            "Grid Search Results:\n",
            "              precision    recall  f1-score   support\n",
            "\n",
            "           0       0.98      0.95      0.96        98\n",
            "           1       0.98      0.99      0.98       219\n",
            "\n",
            "    accuracy                           0.98       317\n",
            "   macro avg       0.98      0.97      0.97       317\n",
            "weighted avg       0.98      0.98      0.98       317\n",
            "\n"
          ]
        }
      ],
      "source": [
        "print(\"Grid Search Results:\")\n",
        "print(classification_report(y_test, grid_search_pred))"
      ]
    },
    {
      "cell_type": "code",
      "execution_count": null,
      "metadata": {
        "colab": {
          "base_uri": "https://localhost:8080/"
        },
        "id": "oPTUocP8kEDi",
        "outputId": "d359aacd-d970-4419-ccb2-f5e0cd6f1ae2"
      },
      "outputs": [
        {
          "name": "stdout",
          "output_type": "stream",
          "text": [
            "Bayesian Optimization Results:\n",
            "              precision    recall  f1-score   support\n",
            "\n",
            "           0       1.00      0.96      0.98        98\n",
            "           1       0.98      1.00      0.99       219\n",
            "\n",
            "    accuracy                           0.99       317\n",
            "   macro avg       0.99      0.98      0.99       317\n",
            "weighted avg       0.99      0.99      0.99       317\n",
            "\n"
          ]
        }
      ],
      "source": [
        "#print(\"Bayesian Optimization Results:\")\n",
        "#print(classification_report(y_test, bayes_search_pred))"
      ]
    },
    {
      "cell_type": "code",
      "execution_count": 30,
      "metadata": {
        "id": "uyoiYPPMjDXd"
      },
      "outputs": [],
      "source": [
        "# Get the best hyperparameters from each method\n",
        "best_params_random = random_search.best_params_\n",
        "best_params_grid = grid_search.best_params_\n",
        "#best_params_bayes = bayesian_search.best_params_"
      ]
    },
    {
      "cell_type": "code",
      "execution_count": 31,
      "metadata": {
        "id": "caUT6d9gjQDt"
      },
      "outputs": [],
      "source": [
        "# Train and evaluate the model using the best hyperparameters\n",
        "rf_best = RandomForestClassifier(**best_params_random)\n",
        "rf_best.fit(X_train, y_train)\n",
        "y_pred = rf_best.predict(X_test)"
      ]
    },
    {
      "cell_type": "code",
      "execution_count": 32,
      "metadata": {
        "id": "Io2t93KW32ku"
      },
      "outputs": [],
      "source": [
        "import pickle"
      ]
    },
    {
      "cell_type": "code",
      "execution_count": 33,
      "metadata": {
        "id": "XXXF_buG37xv"
      },
      "outputs": [],
      "source": [
        "pickle.dump(y_pred, open(\"model3.pkl\", 'wb'))"
      ]
    },
    {
      "cell_type": "code",
      "execution_count": 34,
      "metadata": {},
      "outputs": [],
      "source": [
        "model = pickle.load(open(\"model.pkl\", \"rb\"))"
      ]
    },
    {
      "cell_type": "code",
      "execution_count": 35,
      "metadata": {},
      "outputs": [
        {
          "data": {
            "text/plain": [
              "['model.joblib']"
            ]
          },
          "execution_count": 35,
          "metadata": {},
          "output_type": "execute_result"
        }
      ],
      "source": [
        "from joblib import dump\n",
        "\n",
        "# Save the best model\n",
        "dump(rf_best, \"model.joblib\")"
      ]
    },
    {
      "cell_type": "code",
      "execution_count": null,
      "metadata": {
        "colab": {
          "base_uri": "https://localhost:8080/"
        },
        "id": "X166WzJtjUNK",
        "outputId": "34e8f481-08cf-4be5-a16b-3c514fdcc65c"
      },
      "outputs": [
        {
          "name": "stdout",
          "output_type": "stream",
          "text": [
            "[[ 92   6]\n",
            " [  2 217]]\n",
            "              precision    recall  f1-score   support\n",
            "\n",
            "           0       0.98      0.94      0.96        98\n",
            "           1       0.97      0.99      0.98       219\n",
            "\n",
            "    accuracy                           0.97       317\n",
            "   macro avg       0.98      0.96      0.97       317\n",
            "weighted avg       0.97      0.97      0.97       317\n",
            "\n"
          ]
        }
      ],
      "source": [
        "# Evaluate the model's performance\n",
        "y_pred = rf_best.predict(X_test)\n",
        "print(confusion_matrix(y_test, y_pred))\n",
        "report = classification_report(y_test, y_pred)\n",
        "print(report)"
      ]
    }
  ],
  "metadata": {
    "colab": {
      "provenance": []
    },
    "kernelspec": {
      "display_name": "Python 3",
      "name": "python3"
    },
    "language_info": {
      "codemirror_mode": {
        "name": "ipython",
        "version": 3
      },
      "file_extension": ".py",
      "mimetype": "text/x-python",
      "name": "python",
      "nbconvert_exporter": "python",
      "pygments_lexer": "ipython3",
      "version": "3.10.11"
    }
  },
  "nbformat": 4,
  "nbformat_minor": 0
}
